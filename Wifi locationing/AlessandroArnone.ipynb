{
 "cells": [
  {
   "cell_type": "code",
   "execution_count": 1,
   "metadata": {
    "colab_type": "text",
    "id": "7lMEIOd8HPoO"
   },
   "outputs": [
    {
     "data": {
      "text/html": [
       "\n",
       "        <script>\n",
       "            function code_toggle_16340320844074049622() {\n",
       "                $('div.cell.code_cell.rendered.selected').find('div.input').toggle();\n",
       "            }\n",
       "\n",
       "            \n",
       "        </script>\n",
       "\n",
       "        <a href=\"javascript:code_toggle_16340320844074049622()\">Toggle show/hide</a>\n",
       "    "
      ],
      "text/plain": [
       "<IPython.core.display.HTML object>"
      ]
     },
     "execution_count": 1,
     "metadata": {},
     "output_type": "execute_result"
    }
   ],
   "source": [
    "from IPython.display import HTML\n",
    "import random\n",
    "\n",
    "def hide_toggle(for_next=False):\n",
    "    this_cell = \"\"\"$('div.cell.code_cell.rendered.selected')\"\"\"\n",
    "    next_cell = this_cell + '.next()'\n",
    "\n",
    "    toggle_text = 'Toggle show/hide'  # text shown on toggle link\n",
    "    target_cell = this_cell  # target cell to control with toggle\n",
    "    js_hide_current = ''  # bit of JS to permanently hide code in current cell (only when toggling next cell)\n",
    "\n",
    "    if for_next:\n",
    "        target_cell = next_cell\n",
    "        toggle_text += ' next cell'\n",
    "        js_hide_current = this_cell + '.find(\"div.input\").hide();'\n",
    "\n",
    "    js_f_name = 'code_toggle_{}'.format(str(random.randint(1,2**64)))\n",
    "\n",
    "    html = \"\"\"\n",
    "        <script>\n",
    "            function {f_name}() {{\n",
    "                {cell_selector}.find('div.input').toggle();\n",
    "            }}\n",
    "\n",
    "            {js_hide_current}\n",
    "        </script>\n",
    "\n",
    "        <a href=\"javascript:{f_name}()\">{toggle_text}</a>\n",
    "    \"\"\".format(\n",
    "        f_name=js_f_name,\n",
    "        cell_selector=target_cell,\n",
    "        js_hide_current=js_hide_current, \n",
    "        toggle_text=toggle_text\n",
    "    )\n",
    "\n",
    "    return HTML(html)\n",
    "\n",
    "hide_toggle()"
   ]
  },
  {
   "cell_type": "markdown",
   "metadata": {
    "colab_type": "text",
    "id": "gt5my-SOHPoH"
   },
   "source": [
    "# M3T3\n"
   ]
  },
  {
   "cell_type": "markdown",
   "metadata": {
    "colab_type": "text",
    "id": "3VjkQl-SHPoK"
   },
   "source": [
    "\n",
    "## Table Of Content:\n",
    "\n",
    "* [0. Introduction and Dataset Information](#Anaconda)   \n",
    "* [1. Data Exploration and Feature Engineering](#Libraries)    \n",
    "* [2. Predicting Building](#Variables) \n",
    "* [3. Predicting Floor](#model)\n",
    "* [4. Predicting Langitude and Latitude](#RvsPython)\n"
   ]
  },
  {
   "cell_type": "markdown",
   "metadata": {
    "colab_type": "text",
    "id": "Nqkx-cVGHPoM"
   },
   "source": [
    "# <a class=\"anchor\" id=\"Anaconda\"> 0. Introduction and Dataset Information </a>\n",
    "\n",
    "***MAIN GOAL***\n",
    "\n",
    "Application of machine learning techniques to WIFI Locationing, replacing the GPS signal with WAPS signal.\n",
    "\n",
    "***DATASET***\n",
    "\n",
    "Two datasets have the same number of variables except for USERID:\n",
    "Training Dataset: it has 19,937 observation. \n",
    "Validation Dataset: it has 1,111 observation.\n",
    "\n",
    "***INFORMATION***\n",
    "\n",
    "WAPS: we have 520 different WAPS with signals from -104 to 0.\n",
    "\n",
    "BUILDINGID: 3 Buildings ( to predict.\n",
    "\n",
    "FLOOR: BUILDING 1 and BUILDING 2 ( FLOOR from 0 to 3), BUILDING 3 (FLOOR from 0 to 4).\n",
    "\n",
    "LATITUDE: continous variable.\n",
    "\n",
    "LONGITUDE:  continous variable.\n",
    "\n",
    "\n",
    "***RESULTS***\n",
    "\n",
    "WAPs signal can be good predictors for indoor positioning. \n",
    "The best way of predicting ***BUILDING*** is taking into account the WAP with the highest RSSI.\n",
    "\n",
    "The best way of predicting ***FLOOR*** is taking into account either the WAP with the highest RSSI or all the signals. \n",
    "\n",
    "The best way of predicting ***LONGITUDE/LATITUDE*** is taking all signals (strongest and weakest) because this way we are able to predict even remote places."
   ]
  },
  {
   "cell_type": "markdown",
   "metadata": {
    "colab_type": "text",
    "id": "ZLsyCC4_HPoN"
   },
   "source": [
    "_____ \n",
    "_____    \n",
    "\n",
    "# <a class=\"anchor\" id=\"Libraries\"> 1. Data Exploration and Feature Engineering </a> \n",
    "### Data Exploration and Feature Engineering\n",
    "\n",
    "The following activities have been carried:\n",
    "* drop duplicates\n",
    "* removing low variance row\n",
    "* balance classes by Floor\n",
    "* remove low variance columns \n",
    "* find the maximum WAP of each observation \n",
    "* normalize the data"
   ]
  },
  {
   "cell_type": "markdown",
   "metadata": {},
   "source": [
    "#### Import libraries "
   ]
  },
  {
   "cell_type": "code",
   "execution_count": 2,
   "metadata": {},
   "outputs": [
    {
     "data": {
      "text/html": [
       "\n",
       "        <script>\n",
       "            function code_toggle_735997655671965713() {\n",
       "                $('div.cell.code_cell.rendered.selected').find('div.input').toggle();\n",
       "            }\n",
       "\n",
       "            \n",
       "        </script>\n",
       "\n",
       "        <a href=\"javascript:code_toggle_735997655671965713()\">Toggle show/hide</a>\n",
       "    "
      ],
      "text/plain": [
       "<IPython.core.display.HTML object>"
      ]
     },
     "execution_count": 2,
     "metadata": {},
     "output_type": "execute_result"
    }
   ],
   "source": [
    "\n",
    "import sys\n",
    "import scipy\n",
    "import numpy as np\n",
    "import matplotlib\n",
    "import pandas as pd\n",
    "import sklearn\n",
    "import plotly.express as px\n",
    "\n",
    "\n",
    "\n",
    "from pandas import read_csv\n",
    "from pandas.plotting import scatter_matrix\n",
    "from matplotlib import pyplot\n",
    "import matplotlib.pyplot as plt\n",
    "from numpy import array\n",
    "from sklearn.model_selection import train_test_split\n",
    "from sklearn.model_selection import cross_val_score\n",
    "from sklearn.model_selection import StratifiedKFold\n",
    "from sklearn.model_selection import KFold\n",
    "from sklearn.metrics import classification_report\n",
    "from sklearn.metrics import confusion_matrix\n",
    "from sklearn.metrics import accuracy_score\n",
    "from sklearn.linear_model import LogisticRegression\n",
    "from sklearn.tree import DecisionTreeClassifier\n",
    "from sklearn.neighbors import KNeighborsClassifier\n",
    "from sklearn.neighbors import KNeighborsRegressor\n",
    "from sklearn.discriminant_analysis import LinearDiscriminantAnalysis\n",
    "from sklearn.naive_bayes import GaussianNB\n",
    "from sklearn.svm import SVC\n",
    "from sklearn.feature_selection import VarianceThreshold\n",
    "from sklearn.model_selection import GridSearchCV\n",
    "from sklearn.feature_selection import SelectKBest\n",
    "from sklearn.feature_selection import f_classif\n",
    "from sklearn import svm\n",
    "from numpy import set_printoptions\n",
    "from matplotlib.colors import ListedColormap\n",
    "import matplotlib.pyplot as plt\n",
    "from sklearn import preprocessing\n",
    "from sklearn.preprocessing import MinMaxScaler\n",
    "from sklearn.feature_selection import SelectKBest, chi2, f_regression\n",
    "from sklearn.metrics import mean_squared_error\n",
    "from math import sqrt\n",
    "import statistics\n",
    "hide_toggle()"
   ]
  },
  {
   "cell_type": "markdown",
   "metadata": {},
   "source": [
    "#### READING CSV AND CHECKING HEAD/SHAPE/SIZE"
   ]
  },
  {
   "cell_type": "code",
   "execution_count": 3,
   "metadata": {
    "colab_type": "text",
    "id": "7lMEIOd8HPoO"
   },
   "outputs": [
    {
     "data": {
      "text/html": [
       "\n",
       "        <script>\n",
       "            function code_toggle_12177872711107625189() {\n",
       "                $('div.cell.code_cell.rendered.selected').find('div.input').toggle();\n",
       "            }\n",
       "\n",
       "            \n",
       "        </script>\n",
       "\n",
       "        <a href=\"javascript:code_toggle_12177872711107625189()\">Toggle show/hide</a>\n",
       "    "
      ],
      "text/plain": [
       "<IPython.core.display.HTML object>"
      ]
     },
     "execution_count": 3,
     "metadata": {},
     "output_type": "execute_result"
    }
   ],
   "source": [
    "training = read_csv('~/Downloads/UJIndoorLoc/trainingData.csv')\n",
    "validation = read_csv('~/Downloads/UJIndoorLoc/validationData.csv')\n",
    "\n",
    "#shape #size\n",
    "#print(training.shape)\n",
    "\n",
    "# head\n",
    "#print(training.head(20))\n",
    "\n",
    "# descriptions\n",
    "metrics=(training.describe())\n",
    "\n",
    "\n",
    "#print(training.groupby('BUILDINGID').size())\n",
    "#print(validation.groupby('BUILDINGID').size())\n",
    "\n",
    "\n",
    "hide_toggle()"
   ]
  },
  {
   "cell_type": "markdown",
   "metadata": {},
   "source": [
    "#### DROPPING DUPLICATES"
   ]
  },
  {
   "cell_type": "code",
   "execution_count": 4,
   "metadata": {},
   "outputs": [
    {
     "data": {
      "text/html": [
       "\n",
       "        <script>\n",
       "            function code_toggle_3341996998768315542() {\n",
       "                $('div.cell.code_cell.rendered.selected').find('div.input').toggle();\n",
       "            }\n",
       "\n",
       "            \n",
       "        </script>\n",
       "\n",
       "        <a href=\"javascript:code_toggle_3341996998768315542()\">Toggle show/hide</a>\n",
       "    "
      ],
      "text/plain": [
       "<IPython.core.display.HTML object>"
      ]
     },
     "execution_count": 4,
     "metadata": {},
     "output_type": "execute_result"
    }
   ],
   "source": [
    "#dropping duplicates \n",
    "training = training.drop_duplicates()\n",
    "hide_toggle()"
   ]
  },
  {
   "cell_type": "markdown",
   "metadata": {},
   "source": [
    "#### DELETE ROWS WHICH VARIANCE IS ALMOST 0"
   ]
  },
  {
   "cell_type": "code",
   "execution_count": 5,
   "metadata": {},
   "outputs": [
    {
     "data": {
      "text/html": [
       "\n",
       "        <script>\n",
       "            function code_toggle_948857167871022986() {\n",
       "                $('div.cell.code_cell.rendered.selected').find('div.input').toggle();\n",
       "            }\n",
       "\n",
       "            \n",
       "        </script>\n",
       "\n",
       "        <a href=\"javascript:code_toggle_948857167871022986()\">Toggle show/hide</a>\n",
       "    "
      ],
      "text/plain": [
       "<IPython.core.display.HTML object>"
      ]
     },
     "execution_count": 5,
     "metadata": {},
     "output_type": "execute_result"
    }
   ],
   "source": [
    "varianceByRow=training.iloc[:,0:520].var(axis=1)\n",
    "varianceByRow=varianceByRow[varianceByRow>50]\n",
    "training=training.loc[varianceByRow.index,:]\n",
    "metrics=(training.describe())\n",
    "hide_toggle()"
   ]
  },
  {
   "cell_type": "markdown",
   "metadata": {},
   "source": [
    "#### SOLVE CLASS BALANCE PROBLEM\n",
    "\n",
    "Some floors have much more observation compared to others. Hence, we will downsample to uniformally distribute the number of observation for each floor"
   ]
  },
  {
   "cell_type": "code",
   "execution_count": 6,
   "metadata": {},
   "outputs": [
    {
     "name": "stdout",
     "output_type": "stream",
     "text": [
      "Number of observation before balancing\n"
     ]
    },
    {
     "data": {
      "text/html": [
       "\n",
       "        <script>\n",
       "            function code_toggle_2151661807083859304() {\n",
       "                $('div.cell.code_cell.rendered.selected').find('div.input').toggle();\n",
       "            }\n",
       "\n",
       "            \n",
       "        </script>\n",
       "\n",
       "        <a href=\"javascript:code_toggle_2151661807083859304()\">Toggle show/hide</a>\n",
       "    "
      ],
      "text/plain": [
       "<IPython.core.display.HTML object>"
      ]
     },
     "execution_count": 6,
     "metadata": {},
     "output_type": "execute_result"
    },
    {
     "data": {
      "image/png": "[encoded data removed]",
      "text/plain": [
       "<Figure size 432x288 with 1 Axes>"
      ]
     },
     "metadata": {
      "needs_background": "light"
     },
     "output_type": "display_data"
    }
   ],
   "source": [
    "print(\"Number of observation before balancing\")\n",
    "training.groupby(['BUILDINGID', 'FLOOR']).size().plot(kind='bar') \n",
    "hide_toggle()"
   ]
  },
  {
   "cell_type": "code",
   "execution_count": 7,
   "metadata": {},
   "outputs": [
    {
     "name": "stdout",
     "output_type": "stream",
     "text": [
      "Number of observation after balancing\n",
      "BUILDINGID  FLOOR\n",
      "0           0        727\n",
      "            1        727\n",
      "            2        727\n",
      "            3        727\n",
      "1           0        727\n",
      "            1        727\n",
      "            2        727\n",
      "            3        727\n",
      "2           0        727\n",
      "            1        727\n",
      "            2        727\n",
      "            3        727\n",
      "            4        727\n",
      "dtype: int64\n"
     ]
    },
    {
     "data": {
      "text/html": [
       "\n",
       "        <script>\n",
       "            function code_toggle_12620769235251061748() {\n",
       "                $('div.cell.code_cell.rendered.selected').find('div.input').toggle();\n",
       "            }\n",
       "\n",
       "            \n",
       "        </script>\n",
       "\n",
       "        <a href=\"javascript:code_toggle_12620769235251061748()\">Toggle show/hide</a>\n",
       "    "
      ],
      "text/plain": [
       "<IPython.core.display.HTML object>"
      ]
     },
     "execution_count": 7,
     "metadata": {},
     "output_type": "execute_result"
    }
   ],
   "source": [
    "\n",
    "i_class24 = np.where((training['BUILDINGID']==2) & (training['FLOOR']==4))[0]\n",
    "n_class24 = np.size(i_class24)\n",
    "\n",
    "\n",
    "totalIndex =[] \n",
    "for i in range(3):\n",
    "    for j in range(5):\n",
    "        try:\n",
    "             i_class00 = np.where((training['BUILDINGID']==i) & (training['FLOOR']==j))[0]\n",
    "             i_class00_downsampled = np.random.choice(i_class00, size=n_class24, replace=False)\n",
    "             totalIndex.extend(i_class00_downsampled)\n",
    "        except:\n",
    "            pass\n",
    "           \n",
    "\n",
    "finalTraining = training.iloc[totalIndex,:]\n",
    "print(\"Number of observation after balancing\")\n",
    "print(finalTraining.groupby(['BUILDINGID','FLOOR']).size())\n",
    "\n",
    "onlyWap=finalTraining.iloc[:,0:520]\n",
    "\n",
    "\n",
    "onlyInfo=finalTraining.iloc[:,-9:]\n",
    "\n",
    "\n",
    "finalTraining=pd.concat([onlyWap,onlyInfo],axis=1)\n",
    "hide_toggle()"
   ]
  },
  {
   "cell_type": "markdown",
   "metadata": {},
   "source": [
    "#### FIND THE MAXIMUM WAP AND THE MAXIMUM WAP VALUE FOR EACH OBSERVATION"
   ]
  },
  {
   "cell_type": "code",
   "execution_count": 8,
   "metadata": {
    "colab": {
     "base_uri": "https://localhost:8080/",
     "height": 33
    },
    "colab_type": "code",
    "executionInfo": {
     "elapsed": 1112,
     "status": "ok",
     "timestamp": 1562615069842,
     "user": {
      "displayName": "Giammarco Quaglia",
      "photoUrl": "",
      "userId": "13841240732607970776"
     },
     "user_tz": -120
    },
    "id": "kFBiUk2THPoR",
    "outputId": "c51d124b-d28e-437b-9297-60d6a0be4154"
   },
   "outputs": [
    {
     "name": "stdout",
     "output_type": "stream",
     "text": [
      "a new table of this kind is created\n",
      "       max maxName  Building      type  Floor  Longitude      Latitude\n",
      "18243  -59  WAP075         0  training      0 -7632.2388  4.864988e+06\n",
      "16316  -53  WAP155         0  training      0 -7646.2446  4.864926e+06\n",
      "9362   -65  WAP058         0  training      0 -7634.5004  4.864984e+06\n",
      "15769  -60  WAP053         0  training      0 -7646.3393  4.864932e+06\n",
      "11194  -55  WAP075         0  training      0 -7637.2257  4.864994e+06\n"
     ]
    },
    {
     "data": {
      "text/html": [
       "\n",
       "        <script>\n",
       "            function code_toggle_5990715695825767668() {\n",
       "                $('div.cell.code_cell.rendered.selected').find('div.input').toggle();\n",
       "            }\n",
       "\n",
       "            \n",
       "        </script>\n",
       "\n",
       "        <a href=\"javascript:code_toggle_5990715695825767668()\">Toggle show/hide</a>\n",
       "    "
      ],
      "text/plain": [
       "<IPython.core.display.HTML object>"
      ]
     },
     "execution_count": 8,
     "metadata": {},
     "output_type": "execute_result"
    }
   ],
   "source": [
    "\n",
    "finalTrainingWAP = onlyWap.replace(100,-105) #give value -100 to the 100\n",
    "finalTrainingWAP['max']= finalTrainingWAP.max(axis=1) # put at the end of the row the maximum wap \n",
    "finalTrainingWAP['maxName']= finalTrainingWAP.idxmax(axis=1) #put at the end of the row the name of maximum wap\n",
    "finalTrainingWAP['Building']=finalTraining['BUILDINGID'] # add building ID\n",
    "finalTrainingWAP['type']='training' #add training\n",
    "finalTrainingWAP['Floor']=finalTraining['FLOOR'] #add floor\n",
    "finalTrainingWAP = finalTrainingWAP.iloc[:,-5:] #select only the last created column\n",
    "finalTrainingWAP['Longitude']=finalTraining['LONGITUDE']\n",
    "finalTrainingWAP['Latitude']=finalTraining['LATITUDE']\n",
    "\n",
    "\n",
    "#value of WAP that are at least maximum once ( i do this only for training)\n",
    "totalWap= finalTrainingWAP.groupby('maxName')['Building'].nunique()\n",
    "#select from the tab above only where the WAP are the max of only one\n",
    "totalWap = totalWap[totalWap.values==1]\n",
    "#remove from training Wap the WAP that are the maximum in more then one building (by row and by column)\n",
    "finalTrainingWAP=finalTrainingWAP.loc[finalTrainingWAP['maxName'].isin(totalWap.index)]\n",
    "\n",
    "\n",
    "\n",
    "validationWAP = validation.iloc[:,0:520] #select only the wap\n",
    "validationWAP=validationWAP.iloc[:,validationWAP.columns.isin(totalWap.index)] #just use the predictors found in the line 107\n",
    "validationWAP = validationWAP.replace(100,-105) #replace\n",
    "validationWAP['max']= validationWAP.max(axis=1) #find the maximum\n",
    "validationWAP['maxName']= validationWAP.idxmax(axis=1) #name of the maximum\n",
    "validationWAP['Building']=validation['BUILDINGID'] #add column\n",
    "validationWAP['type']='validation' #add validation\n",
    "validationWAP['Floor']=validation['FLOOR'] #add floor\n",
    "validationWAP['Longitude']=validation['LONGITUDE']\n",
    "validationWAP['Latitude']=validation['LATITUDE']\n",
    "validationWAP = validationWAP.iloc[:,-7:]\n",
    "\n",
    "print(\"a new table of this kind is created\")\n",
    "print(finalTrainingWAP.head(5))\n",
    "hide_toggle()"
   ]
  },
  {
   "cell_type": "markdown",
   "metadata": {},
   "source": [
    "***the above dataset will be used to predict building***"
   ]
  },
  {
   "cell_type": "markdown",
   "metadata": {},
   "source": [
    "#### Remove Low Variance Columns\n",
    "\n",
    "Columns which are almost costant would only create noise to the models hence will be deleted. In order to decide which threeshold a columns will be considered \"low variance\", the standard deviation of the columns will be plotted. In fact, 2 areas can be defined as we can see from the graph below ( histogram of standard deviation of the columns. Clearly the threeshold is where the graphs decays ( around 20 of standard deviation)"
   ]
  },
  {
   "cell_type": "markdown",
   "metadata": {},
   "source": [
    "***Standard Deviation Distribution before removing low variance columns***"
   ]
  },
  {
   "cell_type": "code",
   "execution_count": 9,
   "metadata": {},
   "outputs": [
    {
     "data": {
      "text/html": [
       "\n",
       "        <script>\n",
       "            function code_toggle_12924922989744945546() {\n",
       "                $('div.cell.code_cell.rendered.selected').find('div.input').toggle();\n",
       "            }\n",
       "\n",
       "            \n",
       "        </script>\n",
       "\n",
       "        <a href=\"javascript:code_toggle_12924922989744945546()\">Toggle show/hide</a>\n",
       "    "
      ],
      "text/plain": [
       "<IPython.core.display.HTML object>"
      ]
     },
     "execution_count": 9,
     "metadata": {},
     "output_type": "execute_result"
    },
    {
     "data": {
      "image/png": "[encoded data removed]",
      "text/plain": [
       "<Figure size 432x288 with 1 Axes>"
      ]
     },
     "metadata": {
      "needs_background": "light"
     },
     "output_type": "display_data"
    }
   ],
   "source": [
    "\n",
    "onlyWap=onlyWap.replace(100,-105)\n",
    "\n",
    "\n",
    "\n",
    "metrics=(onlyWap.describe())\n",
    "metrics=metrics.transpose()\n",
    "metrics=metrics[:-9]\n",
    "metrics['std'].hist(bins=40)\n",
    "hide_toggle()"
   ]
  },
  {
   "cell_type": "markdown",
   "metadata": {},
   "source": [
    "***distribution of standard deviation after deleting columns which standandard deviation < 3.5\"\n",
    "\n"
   ]
  },
  {
   "cell_type": "code",
   "execution_count": 10,
   "metadata": {},
   "outputs": [
    {
     "data": {
      "text/html": [
       "\n",
       "        <script>\n",
       "            function code_toggle_11262121279305719177() {\n",
       "                $('div.cell.code_cell.rendered.selected').find('div.input').toggle();\n",
       "            }\n",
       "\n",
       "            \n",
       "        </script>\n",
       "\n",
       "        <a href=\"javascript:code_toggle_11262121279305719177()\">Toggle show/hide</a>\n",
       "    "
      ],
      "text/plain": [
       "<IPython.core.display.HTML object>"
      ]
     },
     "execution_count": 10,
     "metadata": {},
     "output_type": "execute_result"
    },
    {
     "data": {
      "image/png": "[encoded data removed]",
      "text/plain": [
       "<Figure size 432x288 with 1 Axes>"
      ]
     },
     "metadata": {
      "needs_background": "light"
     },
     "output_type": "display_data"
    }
   ],
   "source": [
    "\n",
    "def variance_threshold_select(df, thresh=12):\n",
    "    df1 = df.copy(deep=True) # Make a deep copy of the dataframe\n",
    "    selector = VarianceThreshold(thresh)\n",
    "    selector.fit(df1)\n",
    "    df2 = df.loc[:,selector.get_support(indices=False)] \n",
    "\n",
    "    return df2\n",
    "\n",
    "\n",
    "onlyWap=variance_threshold_select(onlyWap)\n",
    "onlyInfo=finalTraining.iloc[:,-9:]\n",
    "\n",
    "\n",
    "finalTraining=pd.concat([onlyWap,onlyInfo],axis=1)\n",
    "metrics=(finalTraining.describe())\n",
    "metrics=metrics.transpose()\n",
    "metrics=metrics[:-9]\n",
    "metrics['std'].hist(bins=40)\n",
    "hide_toggle()"
   ]
  },
  {
   "cell_type": "markdown",
   "metadata": {
    "colab": {
     "base_uri": "https://localhost:8080/",
     "height": 67
    },
    "colab_type": "code",
    "executionInfo": {
     "elapsed": 1191,
     "status": "ok",
     "timestamp": 1562615497350,
     "user": {
      "displayName": "Giammarco Quaglia",
      "photoUrl": "",
      "userId": "13841240732607970776"
     },
     "user_tz": -120
    },
    "id": "AMKvJuUuHPob",
    "outputId": "1b56e459-7ddc-432d-b287-a9ac43b5d30b"
   },
   "source": [
    "### NORMALIZE THE DATA###"
   ]
  },
  {
   "cell_type": "markdown",
   "metadata": {},
   "source": [
    "***Data will be normalized over the rows in order to equalize the different difference that each model of phone might have"
   ]
  },
  {
   "cell_type": "code",
   "execution_count": 11,
   "metadata": {
    "colab": {
     "base_uri": "https://localhost:8080/",
     "height": 50
    },
    "colab_type": "code",
    "executionInfo": {
     "elapsed": 943,
     "status": "ok",
     "timestamp": 1562615497352,
     "user": {
      "displayName": "Giammarco Quaglia",
      "photoUrl": "",
      "userId": "13841240732607970776"
     },
     "user_tz": -120
    },
    "id": "XYCtYhhfHPog",
    "outputId": "f521d792-643e-4af0-93fb-0ac84f608d72"
   },
   "outputs": [
    {
     "name": "stdout",
     "output_type": "stream",
     "text": [
      "       WAP007  WAP008  WAP009  WAP011  WAP012    WAP013    WAP014  WAP015  \\\n",
      "18243     0.0     0.0     0.0     0.0     0.0  0.000000  0.000000     0.0   \n",
      "16316     0.0     0.0     0.0     0.0     0.0  0.903846  0.884615     0.0   \n",
      "9362      0.0     0.0     0.0     0.0     0.0  0.000000  0.000000     0.0   \n",
      "15769     0.0     0.0     0.0     0.0     0.0  0.800000  0.755556     0.0   \n",
      "11194     0.0     0.0     0.0     0.0     0.0  0.000000  0.000000     0.0   \n",
      "\n",
      "       WAP016  WAP019  ...  WAP517  LONGITUDE      LATITUDE  FLOOR  \\\n",
      "18243     0.0     0.0  ...     0.0 -7632.2388  4.864988e+06      0   \n",
      "16316     0.0     0.0  ...     0.0 -7646.2446  4.864926e+06      0   \n",
      "9362      0.0     0.0  ...     0.0 -7634.5004  4.864984e+06      0   \n",
      "15769     0.0     0.0  ...     0.0 -7646.3393  4.864932e+06      0   \n",
      "11194     0.0     0.0  ...     0.0 -7637.2257  4.864994e+06      0   \n",
      "\n",
      "       BUILDINGID  SPACEID  RELATIVEPOSITION  USERID  PHONEID   TIMESTAMP  \n",
      "18243           0      134                 2       1       14  1371036361  \n",
      "16316           0      222                 2       1       14  1370879198  \n",
      "9362            0      123                 2      11       13  1369909865  \n",
      "15769           0      235                 2       1       14  1370878992  \n",
      "11194           0      126                 2      11       13  1369909935  \n",
      "\n",
      "[5 rows x 255 columns]\n"
     ]
    },
    {
     "data": {
      "text/html": [
       "\n",
       "        <script>\n",
       "            function code_toggle_16681255921674884755() {\n",
       "                $('div.cell.code_cell.rendered.selected').find('div.input').toggle();\n",
       "            }\n",
       "\n",
       "            \n",
       "        </script>\n",
       "\n",
       "        <a href=\"javascript:code_toggle_16681255921674884755()\">Toggle show/hide</a>\n",
       "    "
      ],
      "text/plain": [
       "<IPython.core.display.HTML object>"
      ]
     },
     "execution_count": 11,
     "metadata": {},
     "output_type": "execute_result"
    }
   ],
   "source": [
    "onlyWap1=onlyWap.copy(deep=True)\n",
    "\n",
    "minmax_scale = preprocessing.MinMaxScaler().fit(onlyWap1.T)\n",
    "onlyWap1=minmax_scale.transform(onlyWap1.T).T\n",
    "onlyWap.loc[:,:]=onlyWap1\n",
    "\n",
    "perfectWapTraining=pd.concat([onlyWap,onlyInfo],axis=1)\n",
    "\n",
    "perfectWAPTest=validation.loc[:,validation.columns.isin(perfectWapTraining.columns)]\n",
    "onlyWAPtest=perfectWAPTest.iloc[:,:-9]\n",
    "onlyWAPtestInfo=perfectWAPTest.iloc[:,-9:]\n",
    "\n",
    "onlyWAPtest=onlyWAPtest.replace(100,-105)\n",
    "\n",
    "minmax_scale = preprocessing.MinMaxScaler().fit(onlyWAPtest.T)\n",
    "onlyWap1=minmax_scale.transform(onlyWAPtest.T).T\n",
    "\n",
    "onlyWAPtest.loc[:,:] = onlyWap1\n",
    "\n",
    "perfectWAPTest=pd.concat([onlyWAPtest,onlyWAPtestInfo],axis=1)\n",
    "\n",
    "fullDataset = finalTrainingWAP.append(validationWAP)\n",
    "dummies=pd.get_dummies(fullDataset['maxName'])\n",
    "fullDataset=pd.concat([fullDataset,dummies], axis=1)\n",
    "\n",
    "\n",
    "trainingSet = fullDataset.loc[fullDataset.type=='training']\n",
    "testSet = fullDataset.loc[fullDataset.type=='validation']\n",
    "print(perfectWapTraining.head(5))\n",
    "hide_toggle()"
   ]
  },
  {
   "cell_type": "markdown",
   "metadata": {
    "colab": {
     "base_uri": "https://localhost:8080/",
     "height": 33
    },
    "colab_type": "code",
    "executionInfo": {
     "elapsed": 1110,
     "status": "ok",
     "timestamp": 1562615497739,
     "user": {
      "displayName": "Giammarco Quaglia",
      "photoUrl": "",
      "userId": "13841240732607970776"
     },
     "user_tz": -120
    },
    "id": "P8kL44ajHPok",
    "outputId": "27d87137-8995-4a67-f2b9-22e24519f1c7"
   },
   "source": [
    "***the above dataframe will be used to predict Floor, Latitude and Longitude"
   ]
  },
  {
   "cell_type": "markdown",
   "metadata": {
    "colab_type": "text",
    "id": "fia7PRGHHPo5"
   },
   "source": [
    "# <a class=\"anchor\" id=\"DataStructures\"> 2. Predicting Building </a>  \n",
    "\n",
    "***Different models have been carried out to predict Building. It's possible to achieve perfect accuracy using the maximum WAP as predictor and Logistic regression as model***   \n",
    "       \n",
    "            \n",
    " "
   ]
  },
  {
   "cell_type": "markdown",
   "metadata": {},
   "source": [
    "#### Model using max Wap name"
   ]
  },
  {
   "cell_type": "code",
   "execution_count": 12,
   "metadata": {
    "colab_type": "text",
    "id": "DHKQuhYyHPo6"
   },
   "outputs": [
    {
     "name": "stdout",
     "output_type": "stream",
     "text": [
      "LR: 0.999892 (0.000325)\n",
      "KNN: 0.999349 (0.000868)\n",
      "CART: 0.999457 (0.000875)\n",
      "NB: 0.999349 (0.000868)\n",
      "1.0\n",
      "[[536   0   0]\n",
      " [  0 307   0]\n",
      " [  0   0 268]]\n",
      "              precision    recall  f1-score   support\n",
      "\n",
      "           0       1.00      1.00      1.00       536\n",
      "           1       1.00      1.00      1.00       307\n",
      "           2       1.00      1.00      1.00       268\n",
      "\n",
      "    accuracy                           1.00      1111\n",
      "   macro avg       1.00      1.00      1.00      1111\n",
      "weighted avg       1.00      1.00      1.00      1111\n",
      "\n"
     ]
    },
    {
     "data": {
      "text/html": [
       "\n",
       "        <script>\n",
       "            function code_toggle_4200028991022240748() {\n",
       "                $('div.cell.code_cell.rendered.selected').find('div.input').toggle();\n",
       "            }\n",
       "\n",
       "            \n",
       "        </script>\n",
       "\n",
       "        <a href=\"javascript:code_toggle_4200028991022240748()\">Toggle show/hide</a>\n",
       "    "
      ],
      "text/plain": [
       "<IPython.core.display.HTML object>"
      ]
     },
     "execution_count": 12,
     "metadata": {},
     "output_type": "execute_result"
    }
   ],
   "source": [
    "finalArray = trainingSet.values\n",
    "X = finalArray[:,7:]\n",
    "y = finalArray[:,2]\n",
    "y=y.astype('int')\n",
    "\n",
    "\n",
    "validationArray=testSet.values\n",
    "X_validation=validationArray[:,7:]\n",
    "Y_validation=validationArray[:,2]\n",
    "Y_validation=Y_validation.astype('int')\n",
    "\n",
    "\n",
    "models = []\n",
    "models.append(('LR', LogisticRegression(solver='liblinear', multi_class='ovr')))\n",
    "models.append(('KNN', KNeighborsClassifier()))\n",
    "models.append(('CART', DecisionTreeClassifier()))\n",
    "models.append(('NB', GaussianNB()))\n",
    "\n",
    "# evaluate each model in turn\n",
    "results = []\n",
    "names = []\n",
    "for name, model in models:\n",
    "    \n",
    "\tkfold = KFold(n_splits=10, random_state=1, shuffle=True)\n",
    "\tcv_results = cross_val_score(model, X, y, cv=kfold, scoring='accuracy')\n",
    "\tresults.append(cv_results)\n",
    "\tnames.append(name)\n",
    "\tprint('%s: %f (%f)' % (name, cv_results.mean(), cv_results.std()))\n",
    " \n",
    "\n",
    "\n",
    "\n",
    "# Make predictions on validation dataset\n",
    "model = LogisticRegression(solver='liblinear', multi_class='ovr')\n",
    "model.fit(X, y)\n",
    "predictions = model.predict(X_validation)\n",
    "predictionReal=model.predict(X)\n",
    "\n",
    "# Evaluate predictions\n",
    "print(accuracy_score(Y_validation, predictions))\n",
    "print(confusion_matrix(Y_validation, predictions))\n",
    "print(classification_report(Y_validation, predictions))\n",
    "\n",
    "hide_toggle()"
   ]
  },
  {
   "cell_type": "markdown",
   "metadata": {
    "colab_type": "text",
    "id": "21l7Eae5HPqU"
   },
   "source": [
    "# <a class=\"anchor\" id=\"model\"> 3. Predicting Floor </a>    "
   ]
  },
  {
   "cell_type": "markdown",
   "metadata": {
    "colab": {
     "base_uri": "https://localhost:8080/",
     "height": 67
    },
    "colab_type": "code",
    "executionInfo": {
     "elapsed": 1854,
     "status": "ok",
     "timestamp": 1562615511639,
     "user": {
      "displayName": "Giammarco Quaglia",
      "photoUrl": "",
      "userId": "13841240732607970776"
     },
     "user_tz": -120
    },
    "id": "4z7AjL9VHPqV",
    "outputId": "2f6c25d0-d3c2-41f6-90a2-e096dc1a676a"
   },
   "source": [
    "Different models have been carried out to predict Floor. \n",
    "\n",
    "*0.90 of accuracy using the max WAP\n",
    "\n",
    "*0.90 of accuracy using the intensity of each WAP for each Builging"
   ]
  },
  {
   "cell_type": "markdown",
   "metadata": {},
   "source": [
    "#### Model using max Wap name"
   ]
  },
  {
   "cell_type": "code",
   "execution_count": 13,
   "metadata": {
    "colab": {
     "base_uri": "https://localhost:8080/",
     "height": 134
    },
    "colab_type": "code",
    "executionInfo": {
     "elapsed": 1427,
     "status": "ok",
     "timestamp": 1562615511640,
     "user": {
      "displayName": "Giammarco Quaglia",
      "photoUrl": "",
      "userId": "13841240732607970776"
     },
     "user_tz": -120
    },
    "id": "FbTicuXRHPqb",
    "outputId": "765727f7-5375-4cdb-8d33-df44993bcb8f"
   },
   "outputs": [
    {
     "name": "stdout",
     "output_type": "stream",
     "text": [
      "LR: 0.907000 (0.008319)\n",
      "KNN: 0.756807 (0.006433)\n",
      "CART: 0.907108 (0.008584)\n",
      "NB: 0.742592 (0.013549)\n",
      "Accuracy Score\n",
      "0.8928892889288929\n",
      "Confusion Matrix\n",
      "[[119  12   1   0   0]\n",
      " [ 20 417  23   2   0]\n",
      " [  2  33 253  17   1]\n",
      " [  0   0   2 168   2]\n",
      " [  0   0   0   4  35]]\n",
      "Classification Report\n",
      "              precision    recall  f1-score   support\n",
      "\n",
      "           0       0.84      0.90      0.87       132\n",
      "           1       0.90      0.90      0.90       462\n",
      "           2       0.91      0.83      0.86       306\n",
      "           3       0.88      0.98      0.93       172\n",
      "           4       0.92      0.90      0.91        39\n",
      "\n",
      "    accuracy                           0.89      1111\n",
      "   macro avg       0.89      0.90      0.89      1111\n",
      "weighted avg       0.89      0.89      0.89      1111\n",
      "\n"
     ]
    },
    {
     "data": {
      "text/html": [
       "\n",
       "        <script>\n",
       "            function code_toggle_8386123268162830677() {\n",
       "                $('div.cell.code_cell.rendered.selected').find('div.input').toggle();\n",
       "            }\n",
       "\n",
       "            \n",
       "        </script>\n",
       "\n",
       "        <a href=\"javascript:code_toggle_8386123268162830677()\">Toggle show/hide</a>\n",
       "    "
      ],
      "text/plain": [
       "<IPython.core.display.HTML object>"
      ]
     },
     "execution_count": 13,
     "metadata": {},
     "output_type": "execute_result"
    }
   ],
   "source": [
    "\n",
    "y = []\n",
    "y = finalArray[:,4]\n",
    "y=y.astype('int')\n",
    "\n",
    "Y_validation=[]\n",
    "Y_validation=validationArray[:,4]\n",
    "Y_validation=Y_validation.astype('int')\n",
    "\n",
    "\n",
    "\n",
    "\n",
    "\n",
    "models = []\n",
    "models.append(('LR', LogisticRegression(solver='liblinear', multi_class='ovr')))\n",
    "models.append(('KNN', KNeighborsClassifier()))\n",
    "models.append(('CART', DecisionTreeClassifier()))\n",
    "models.append(('NB', GaussianNB()))\n",
    "# evaluate each model in turn\n",
    "results = []\n",
    "names = []\n",
    "for name, model in models:\n",
    "    \n",
    "\tkfold = KFold(n_splits=10, random_state=1, shuffle=True)\n",
    "\tcv_results = cross_val_score(model, X, y, cv=kfold, scoring='accuracy')\n",
    "\tresults.append(cv_results)\n",
    "\tnames.append(name)\n",
    "\tprint('%s: %f (%f)' % (name, cv_results.mean(), cv_results.std()))\n",
    "\n",
    "model =  LogisticRegression(solver='liblinear', multi_class='ovr')\n",
    "model.fit(X, y)\n",
    "predictions = model.predict(X_validation)\n",
    "\n",
    "# Evaluate predictions\n",
    "print(\"Accuracy Score\")\n",
    "print(accuracy_score(Y_validation, predictions))\n",
    "print(\"Confusion Matrix\")\n",
    "print(confusion_matrix(Y_validation, predictions))\n",
    "print(\"Classification Report\")\n",
    "print(classification_report(Y_validation, predictions))\n",
    "\n",
    "\n",
    "hide_toggle()"
   ]
  },
  {
   "cell_type": "markdown",
   "metadata": {
    "colab": {
     "base_uri": "https://localhost:8080/",
     "height": 84
    },
    "colab_type": "code",
    "executionInfo": {
     "elapsed": 1379,
     "status": "ok",
     "timestamp": 1562615511640,
     "user": {
      "displayName": "Giammarco Quaglia",
      "photoUrl": "",
      "userId": "13841240732607970776"
     },
     "user_tz": -120
    },
    "id": "HPnoHr4aHPqf",
    "outputId": "438bbc77-dbd7-48b0-ce62-670185779613"
   },
   "source": [
    "#### Model using Wap signals"
   ]
  },
  {
   "cell_type": "code",
   "execution_count": 14,
   "metadata": {},
   "outputs": [
    {
     "name": "stdout",
     "output_type": "stream",
     "text": [
      "This is BUILDING 0 - FLOOR\n",
      "LR: 0.983844 (0.007842)\n",
      "KNN: 0.992096 (0.005760)\n",
      "CART: 0.963895 (0.011313)\n",
      "NB: 0.747587 (0.014859)\n",
      "0.960820895522388\n",
      "[[ 70   5   3   0]\n",
      " [  4 203   1   0]\n",
      " [  2   4 159   0]\n",
      " [  0   0   2  83]]\n",
      "              precision    recall  f1-score   support\n",
      "\n",
      "           0       0.92      0.90      0.91        78\n",
      "           1       0.96      0.98      0.97       208\n",
      "           2       0.96      0.96      0.96       165\n",
      "           3       1.00      0.98      0.99        85\n",
      "\n",
      "    accuracy                           0.96       536\n",
      "   macro avg       0.96      0.95      0.96       536\n",
      "weighted avg       0.96      0.96      0.96       536\n",
      "\n"
     ]
    },
    {
     "data": {
      "text/html": [
       "\n",
       "        <script>\n",
       "            function code_toggle_7827262684593166226() {\n",
       "                $('div.cell.code_cell.rendered.selected').find('div.input').toggle();\n",
       "            }\n",
       "\n",
       "            \n",
       "        </script>\n",
       "\n",
       "        <a href=\"javascript:code_toggle_7827262684593166226()\">Toggle show/hide</a>\n",
       "    "
      ],
      "text/plain": [
       "<IPython.core.display.HTML object>"
      ]
     },
     "execution_count": 14,
     "metadata": {},
     "output_type": "execute_result"
    }
   ],
   "source": [
    "#%% Floor by WAP\n",
    "\n",
    "print(\"This is BUILDING 0 - FLOOR\")\n",
    "perfectWapTraining1=perfectWapTraining[perfectWapTraining.BUILDINGID==0]\n",
    "perfectWAPTest1=perfectWAPTest[perfectWAPTest.BUILDINGID==0]\n",
    "\n",
    "\n",
    "\n",
    "finalArray = perfectWapTraining1.values\n",
    "X = finalArray[:,:-9]\n",
    "y = finalArray[:,-7]\n",
    "y=y.astype('int')\n",
    "\n",
    "validationArray=perfectWAPTest1.values\n",
    "X_validation=validationArray[:,:-9]\n",
    "Y_validation=validationArray[:,-7]\n",
    "Y_validation=Y_validation.astype('int')\n",
    "\n",
    "\n",
    "\n",
    "models = []\n",
    "models.append(('LR', LogisticRegression(solver='liblinear', multi_class='ovr')))\n",
    "models.append(('KNN', KNeighborsClassifier()))\n",
    "models.append(('CART', DecisionTreeClassifier()))\n",
    "models.append(('NB', GaussianNB()))\n",
    "# evaluate each model in turn\n",
    "results = []\n",
    "names = []\n",
    "for name, model in models:\n",
    "    \n",
    "\tkfold = KFold(n_splits=10, random_state=1, shuffle=True)\n",
    "\tcv_results = cross_val_score(model, X, y, cv=kfold, scoring='accuracy')\n",
    "\tresults.append(cv_results)\n",
    "\tnames.append(name)\n",
    "\tprint('%s: %f (%f)' % (name, cv_results.mean(), cv_results.std()))\n",
    "\n",
    "model =  KNeighborsClassifier()\n",
    "model.fit(X, y)\n",
    "predictions = model.predict(X_validation)\n",
    "\n",
    "# Evaluate predictions\n",
    "print(accuracy_score(Y_validation, predictions))\n",
    "print(confusion_matrix(Y_validation, predictions))\n",
    "print(classification_report(Y_validation, predictions))\n",
    "\n",
    "\n",
    "floorPredictions=predictions\n",
    "\n",
    "\n",
    "hide_toggle()\n"
   ]
  },
  {
   "cell_type": "code",
   "execution_count": 15,
   "metadata": {},
   "outputs": [
    {
     "name": "stdout",
     "output_type": "stream",
     "text": [
      "This is BUILDING 1 - FLOOR\n",
      "LR: 0.988996 (0.005056)\n",
      "KNN: 0.992430 (0.006308)\n",
      "CART: 0.970422 (0.009393)\n",
      "NB: 0.741757 (0.016431)\n",
      "0.8045602605863192\n",
      "[[ 21   3   6   0]\n",
      " [  5 101  36   1]\n",
      " [  0   1  80   6]\n",
      " [  0   0   2  45]]\n",
      "              precision    recall  f1-score   support\n",
      "\n",
      "           0       0.81      0.70      0.75        30\n",
      "           1       0.96      0.71      0.81       143\n",
      "           2       0.65      0.92      0.76        87\n",
      "           3       0.87      0.96      0.91        47\n",
      "\n",
      "    accuracy                           0.80       307\n",
      "   macro avg       0.82      0.82      0.81       307\n",
      "weighted avg       0.84      0.80      0.81       307\n",
      "\n"
     ]
    },
    {
     "data": {
      "text/html": [
       "\n",
       "        <script>\n",
       "            function code_toggle_5185213121516167469() {\n",
       "                $('div.cell.code_cell.rendered.selected').find('div.input').toggle();\n",
       "            }\n",
       "\n",
       "            \n",
       "        </script>\n",
       "\n",
       "        <a href=\"javascript:code_toggle_5185213121516167469()\">Toggle show/hide</a>\n",
       "    "
      ],
      "text/plain": [
       "<IPython.core.display.HTML object>"
      ]
     },
     "execution_count": 15,
     "metadata": {},
     "output_type": "execute_result"
    }
   ],
   "source": [
    "\n",
    "#%% Floor by WAP buidling 1\n",
    "\n",
    "\n",
    "print(\"This is BUILDING 1 - FLOOR\")\n",
    "\n",
    "perfectWapTraining1=perfectWapTraining[perfectWapTraining.BUILDINGID==1]\n",
    "perfectWAPTest1=perfectWAPTest[perfectWAPTest.BUILDINGID==1]\n",
    "\n",
    "\n",
    "\n",
    "finalArray = perfectWapTraining1.values\n",
    "X = finalArray[:,:-9]\n",
    "y = finalArray[:,-7]\n",
    "y=y.astype('int')\n",
    "\n",
    "validationArray=perfectWAPTest1.values\n",
    "X_validation=validationArray[:,:-9]\n",
    "Y_validation=validationArray[:,-7]\n",
    "Y_validation=Y_validation.astype('int')\n",
    "\n",
    "\n",
    "\n",
    "models = []\n",
    "models.append(('LR', LogisticRegression(solver='liblinear', multi_class='ovr')))\n",
    "models.append(('KNN', KNeighborsClassifier()))\n",
    "models.append(('CART', DecisionTreeClassifier()))\n",
    "models.append(('NB', GaussianNB()))\n",
    "# evaluate each model in turn\n",
    "results = []\n",
    "names = []\n",
    "for name, model in models:\n",
    "    \n",
    "\tkfold = KFold(n_splits=10, random_state=1, shuffle=True)\n",
    "\tcv_results = cross_val_score(model, X, y, cv=kfold, scoring='accuracy')\n",
    "\tresults.append(cv_results)\n",
    "\tnames.append(name)\n",
    "\tprint('%s: %f (%f)' % (name, cv_results.mean(), cv_results.std()))\n",
    "\n",
    "model =  KNeighborsClassifier()\n",
    "model.fit(X, y)\n",
    "predictions = model.predict(X_validation)\n",
    "\n",
    "# Evaluate predictions\n",
    "print(accuracy_score(Y_validation, predictions))\n",
    "print(confusion_matrix(Y_validation, predictions))\n",
    "print(classification_report(Y_validation, predictions))\n",
    "\n",
    "\n",
    "\n",
    "\n",
    "\n",
    "floorPredictions=pd.DataFrame(floorPredictions)\n",
    "predictions=pd.DataFrame(predictions)\n",
    "floorPredictions=floorPredictions.append(predictions)\n",
    "\n",
    "hide_toggle()"
   ]
  },
  {
   "cell_type": "code",
   "execution_count": 16,
   "metadata": {},
   "outputs": [
    {
     "name": "stdout",
     "output_type": "stream",
     "text": [
      "This is BUILDING 2 - FLOOR\n",
      "LR: 0.990098 (0.004794)\n",
      "KNN: 0.994772 (0.003124)\n",
      "CART: 0.961214 (0.010308)\n",
      "NB: 0.625582 (0.022436)\n",
      "0.917910447761194\n",
      "[[ 22   2   0   0   0]\n",
      " [  0 107   4   0   0]\n",
      " [  0   4  47   1   2]\n",
      " [  0   0   2  35   3]\n",
      " [  1   0   0   3  35]]\n",
      "              precision    recall  f1-score   support\n",
      "\n",
      "           0       0.96      0.92      0.94        24\n",
      "           1       0.95      0.96      0.96       111\n",
      "           2       0.89      0.87      0.88        54\n",
      "           3       0.90      0.88      0.89        40\n",
      "           4       0.88      0.90      0.89        39\n",
      "\n",
      "    accuracy                           0.92       268\n",
      "   macro avg       0.91      0.90      0.91       268\n",
      "weighted avg       0.92      0.92      0.92       268\n",
      "\n"
     ]
    },
    {
     "data": {
      "text/html": [
       "\n",
       "        <script>\n",
       "            function code_toggle_11878708634749878476() {\n",
       "                $('div.cell.code_cell.rendered.selected').find('div.input').toggle();\n",
       "            }\n",
       "\n",
       "            \n",
       "        </script>\n",
       "\n",
       "        <a href=\"javascript:code_toggle_11878708634749878476()\">Toggle show/hide</a>\n",
       "    "
      ],
      "text/plain": [
       "<IPython.core.display.HTML object>"
      ]
     },
     "execution_count": 16,
     "metadata": {},
     "output_type": "execute_result"
    }
   ],
   "source": [
    "\n",
    "#%% Floor by WAP buidling 2\n",
    "\n",
    "print(\"This is BUILDING 2 - FLOOR\")\n",
    "\n",
    "\n",
    "perfectWapTraining1=perfectWapTraining[perfectWapTraining.BUILDINGID==2]\n",
    "perfectWAPTest1=perfectWAPTest[perfectWAPTest.BUILDINGID==2]\n",
    "\n",
    "\n",
    "\n",
    "finalArray = perfectWapTraining1.values\n",
    "X = finalArray[:,:-9]\n",
    "y = finalArray[:,-7]\n",
    "y=y.astype('int')\n",
    "\n",
    "validationArray=perfectWAPTest1.values\n",
    "X_validation=validationArray[:,:-9]\n",
    "Y_validation=validationArray[:,-7]\n",
    "Y_validation=Y_validation.astype('int')\n",
    "\n",
    "\n",
    "\n",
    "models = []\n",
    "models.append(('LR', LogisticRegression(solver='liblinear', multi_class='ovr')))\n",
    "models.append(('KNN', KNeighborsClassifier()))\n",
    "models.append(('CART', DecisionTreeClassifier()))\n",
    "models.append(('NB', GaussianNB()))\n",
    "# evaluate each model in turn\n",
    "results = []\n",
    "names = []\n",
    "for name, model in models:\n",
    "    \n",
    "\tkfold = KFold(n_splits=10, random_state=1, shuffle=True)\n",
    "\tcv_results = cross_val_score(model, X, y, cv=kfold, scoring='accuracy')\n",
    "\tresults.append(cv_results)\n",
    "\tnames.append(name)\n",
    "\tprint('%s: %f (%f)' % (name, cv_results.mean(), cv_results.std()))\n",
    "\n",
    "model =  LogisticRegression(solver='liblinear', multi_class='ovr')\n",
    "model.fit(X, y)\n",
    "predictions = model.predict(X_validation)\n",
    "\n",
    "# Evaluate predictions\n",
    "print(accuracy_score(Y_validation, predictions))\n",
    "print(confusion_matrix(Y_validation, predictions))\n",
    "print(classification_report(Y_validation, predictions))\n",
    "\n",
    "predictions=pd.DataFrame(predictions)\n",
    "floorPredictions=floorPredictions.append(predictions)\n",
    "\n",
    "hide_toggle()"
   ]
  },
  {
   "cell_type": "markdown",
   "metadata": {},
   "source": [
    "# <a class=\"anchor\" id=\"RvsPython\"> 3. Predicting Latitude and Longitude </a>    "
   ]
  },
  {
   "cell_type": "markdown",
   "metadata": {},
   "source": [
    "#### LONGITUDE"
   ]
  },
  {
   "cell_type": "code",
   "execution_count": 17,
   "metadata": {},
   "outputs": [
    {
     "name": "stdout",
     "output_type": "stream",
     "text": [
      "Building 0\n",
      "Fitting 10 folds for each of 4 candidates, totalling 40 fits\n"
     ]
    },
    {
     "name": "stderr",
     "output_type": "stream",
     "text": [
      "[Parallel(n_jobs=1)]: Using backend SequentialBackend with 1 concurrent workers.\n",
      "[Parallel(n_jobs=1)]: Done  40 out of  40 | elapsed:    4.0s finished\n"
     ]
    },
    {
     "name": "stdout",
     "output_type": "stream",
     "text": [
      "Best score : 0.976603\n",
      "Best parameters: \n",
      "{'n_neighbors': 3}\n",
      "RMSE :\n",
      "6.005111145293639\n"
     ]
    },
    {
     "data": {
      "text/html": [
       "\n",
       "        <script>\n",
       "            function code_toggle_8039545453424613680() {\n",
       "                $('div.cell.code_cell.rendered.selected').find('div.input').toggle();\n",
       "            }\n",
       "\n",
       "            \n",
       "        </script>\n",
       "\n",
       "        <a href=\"javascript:code_toggle_8039545453424613680()\">Toggle show/hide</a>\n",
       "    "
      ],
      "text/plain": [
       "<IPython.core.display.HTML object>"
      ]
     },
     "execution_count": 17,
     "metadata": {},
     "output_type": "execute_result"
    }
   ],
   "source": [
    "\n",
    "print(\"Building 0\")\n",
    "\n",
    "perfectWapTraining1=perfectWapTraining[perfectWapTraining.BUILDINGID==0]\n",
    "perfectWAPTest1=perfectWAPTest[perfectWAPTest.BUILDINGID==0]\n",
    "\n",
    "\n",
    "\n",
    "\n",
    "finalArray = perfectWapTraining1.values\n",
    "X = finalArray[:,:-9]\n",
    "y = finalArray[:,-9]\n",
    "y=y.astype('int')\n",
    "\n",
    "validationArray=perfectWAPTest1.values\n",
    "X_validation=validationArray[:,:-9]\n",
    "Y_validation=validationArray[:,-9]\n",
    "Y_validation=Y_validation.astype('int')\n",
    "\n",
    "\n",
    "k_range = [2,3,4,5]\n",
    "grid_params =  {\"n_neighbors\": k_range}\n",
    "gs= GridSearchCV(KNeighborsRegressor(),\n",
    "                grid_params,\n",
    "                verbose=1,\n",
    "                cv=10)\n",
    "gs_results = gs.fit(X, y)\n",
    "print(\"Best score : %f\" % gs_results.best_score_)\n",
    "print(\"Best parameters: \" )\n",
    "print(gs_results.best_params_)\n",
    "predictions = gs_results.predict(X_validation)\n",
    "\n",
    "\n",
    "\n",
    "\n",
    "\n",
    "rmse = sqrt(mean_squared_error(Y_validation, predictions))\n",
    "print(\"RMSE :\")\n",
    "print(rmse)\n",
    "\n",
    "\n",
    "errorTrial=[]\n",
    "errorTrial= perfectWAPTest1.copy(deep=True)\n",
    "errorTrial['prediction']=predictions\n",
    "errorTrial['error']=abs(errorTrial.prediction -errorTrial.LONGITUDE)\n",
    "errorMetrics=errorTrial.groupby('PHONEID')['error'].agg(['sum','count','mean'])\n",
    "\n",
    "totalPrediction=perfectWAPTest1.copy(deep=True)\n",
    "totalPrediction['predictions']=predictions\n",
    "totalTotal=totalPrediction.copy(deep=True)\n",
    "hide_toggle()"
   ]
  },
  {
   "cell_type": "code",
   "execution_count": 18,
   "metadata": {},
   "outputs": [
    {
     "name": "stdout",
     "output_type": "stream",
     "text": [
      "Building 1\n",
      "Fitting 10 folds for each of 8 candidates, totalling 80 fits\n"
     ]
    },
    {
     "name": "stderr",
     "output_type": "stream",
     "text": [
      "[Parallel(n_jobs=1)]: Using backend SequentialBackend with 1 concurrent workers.\n"
     ]
    },
    {
     "name": "stdout",
     "output_type": "stream",
     "text": [
      "Best score : 0.983661\n",
      "Best parameters: \n",
      "{'n_neighbors': 2}\n",
      "RMSE :\n",
      "9.385908420231052\n"
     ]
    },
    {
     "name": "stderr",
     "output_type": "stream",
     "text": [
      "[Parallel(n_jobs=1)]: Done  80 out of  80 | elapsed:    7.3s finished\n"
     ]
    },
    {
     "data": {
      "text/html": [
       "\n",
       "        <script>\n",
       "            function code_toggle_16028227205439010286() {\n",
       "                $('div.cell.code_cell.rendered.selected').find('div.input').toggle();\n",
       "            }\n",
       "\n",
       "            \n",
       "        </script>\n",
       "\n",
       "        <a href=\"javascript:code_toggle_16028227205439010286()\">Toggle show/hide</a>\n",
       "    "
      ],
      "text/plain": [
       "<IPython.core.display.HTML object>"
      ]
     },
     "execution_count": 18,
     "metadata": {},
     "output_type": "execute_result"
    }
   ],
   "source": [
    "print(\"Building 1\")\n",
    "perfectWapTraining1=perfectWapTraining[perfectWapTraining.BUILDINGID==1]\n",
    "perfectWAPTest1=perfectWAPTest[perfectWAPTest.BUILDINGID==1]\n",
    "\n",
    "\n",
    "\n",
    "finalArray = perfectWapTraining1.values\n",
    "X = finalArray[:,:-9]\n",
    "y = finalArray[:,-9]\n",
    "y=y.astype('int')\n",
    "\n",
    "validationArray=perfectWAPTest1.values\n",
    "X_validation=validationArray[:,:-9]\n",
    "Y_validation=validationArray[:,-9]\n",
    "Y_validation=Y_validation.astype('int')\n",
    "\n",
    "\n",
    "k_range = [2,3,4,5,7,8,9,10]\n",
    "\n",
    "\n",
    "grid_params =  {\"n_neighbors\": k_range}\n",
    "gs= GridSearchCV(KNeighborsRegressor(),\n",
    "                grid_params,\n",
    "                verbose=1,\n",
    "                cv=10)\n",
    "gs_results = gs.fit(X, y)\n",
    "print(\"Best score : %f\" % gs_results.best_score_)\n",
    "print(\"Best parameters: \" )\n",
    "print(gs_results.best_params_)\n",
    "predictions = gs_results.predict(X_validation)\n",
    "\n",
    "\n",
    "rmse = sqrt(mean_squared_error(Y_validation, predictions))\n",
    "print(\"RMSE :\")\n",
    "print(rmse)\n",
    "\n",
    "\n",
    "\n",
    "\n",
    "totalPrediction=perfectWAPTest1.copy(deep=True)\n",
    "totalPrediction['predictions']=predictions\n",
    "totalTotal=totalTotal.append(totalPrediction)\n",
    "\n",
    "\n",
    "errorTrial=[]\n",
    "errorTrial= perfectWAPTest1.copy(deep=True)\n",
    "errorTrial['prediction']=predictions\n",
    "errorTrial['error']=abs(errorTrial.prediction -errorTrial.LONGITUDE)\n",
    "errorMetrics=errorTrial.groupby('PHONEID')['error'].agg(['sum','count','mean'])\n",
    "\n",
    "hide_toggle()\n"
   ]
  },
  {
   "cell_type": "code",
   "execution_count": 19,
   "metadata": {},
   "outputs": [
    {
     "name": "stderr",
     "output_type": "stream",
     "text": [
      "[Parallel(n_jobs=1)]: Using backend SequentialBackend with 1 concurrent workers.\n"
     ]
    },
    {
     "name": "stdout",
     "output_type": "stream",
     "text": [
      "Building 2\n",
      "Fitting 10 folds for each of 4 candidates, totalling 40 fits\n"
     ]
    },
    {
     "name": "stderr",
     "output_type": "stream",
     "text": [
      "[Parallel(n_jobs=1)]: Done  40 out of  40 | elapsed:    9.3s finished\n"
     ]
    },
    {
     "name": "stdout",
     "output_type": "stream",
     "text": [
      "Best score : 0.962326\n",
      "Best parameters: \n",
      "{'n_neighbors': 2}\n",
      "11.693895907375664\n",
      "Total error on Longitude RMSE:\n",
      "8.696220598285334\n",
      "error Distribution Longitude\n"
     ]
    },
    {
     "data": {
      "text/html": [
       "\n",
       "        <script>\n",
       "            function code_toggle_2489961576593593389() {\n",
       "                $('div.cell.code_cell.rendered.selected').find('div.input').toggle();\n",
       "            }\n",
       "\n",
       "            \n",
       "        </script>\n",
       "\n",
       "        <a href=\"javascript:code_toggle_2489961576593593389()\">Toggle show/hide</a>\n",
       "    "
      ],
      "text/plain": [
       "<IPython.core.display.HTML object>"
      ]
     },
     "execution_count": 19,
     "metadata": {},
     "output_type": "execute_result"
    },
    {
     "data": {
      "image/png": "[encoded data removed]",
      "text/plain": [
       "<Figure size 432x288 with 1 Axes>"
      ]
     },
     "metadata": {
      "needs_background": "light"
     },
     "output_type": "display_data"
    }
   ],
   "source": [
    "print(\"Building 2\")\n",
    "\n",
    "perfectWapTraining1=perfectWapTraining[perfectWapTraining.BUILDINGID==2]\n",
    "perfectWAPTest1=perfectWAPTest[perfectWAPTest.BUILDINGID==2]\n",
    "\n",
    "\n",
    "\n",
    "finalArray = perfectWapTraining1.values\n",
    "X = finalArray[:,:-9]\n",
    "y = finalArray[:,-9]\n",
    "y=y.astype('int')\n",
    "\n",
    "validationArray=perfectWAPTest1.values\n",
    "X_validation=validationArray[:,:-9]\n",
    "Y_validation=validationArray[:,-9]\n",
    "Y_validation=Y_validation.astype('int')\n",
    "\n",
    "\n",
    "k_range = [2,3,4,5]\n",
    "grid_params =  {\"n_neighbors\": k_range}\n",
    "gs= GridSearchCV(KNeighborsRegressor(),\n",
    "                grid_params,\n",
    "                verbose=1,\n",
    "                cv=10)\n",
    "gs_results = gs.fit(X, y)\n",
    "print(\"Best score : %f\" % gs_results.best_score_)\n",
    "print(\"Best parameters: \" )\n",
    "print(gs_results.best_params_)\n",
    "\n",
    "predictions = gs_results.predict(X_validation)\n",
    "\n",
    "\n",
    "rmse = sqrt(mean_squared_error(Y_validation, predictions))\n",
    "print(rmse)\n",
    "\n",
    "errorTrial=[]\n",
    "errorTrial= perfectWAPTest1.copy(deep=True)\n",
    "errorTrial['prediction']=predictions\n",
    "errorTrial['error']=abs(errorTrial.prediction -errorTrial.LONGITUDE)\n",
    "#errorTrial.groupby(['PHONEID'])['error'].mean().plot(kind='bar') \n",
    "#errorTrial.groupby(['PHONEID'])['error'].sum().plot(kind='bar') \n",
    "errorMetrics=errorTrial.groupby('PHONEID')['error'].agg(['sum','count','mean'])\n",
    "\n",
    "totalPrediction=perfectWAPTest1.copy(deep=True)\n",
    "totalPrediction['predictions']=predictions\n",
    "totalTotal=totalTotal.append(totalPrediction)\n",
    "\n",
    "errorMetrics=errorTrial.groupby('PHONEID')['error'].agg(['sum','count','mean'])\n",
    "\n",
    "print(\"Total error on Longitude RMSE:\")\n",
    "rmse = sqrt(mean_squared_error(totalTotal.LONGITUDE, totalTotal.predictions))\n",
    "print(rmse)\n",
    "\n",
    "\n",
    "print(\"error Distribution Longitude\")\n",
    "(totalTotal.LONGITUDE-totalTotal.predictions).hist()\n",
    "\n",
    "hide_toggle()\n",
    "\n"
   ]
  },
  {
   "cell_type": "markdown",
   "metadata": {},
   "source": [
    "### LATITUDE"
   ]
  },
  {
   "cell_type": "code",
   "execution_count": 20,
   "metadata": {},
   "outputs": [
    {
     "name": "stdout",
     "output_type": "stream",
     "text": [
      "Building 0\n",
      "Fitting 10 folds for each of 5 candidates, totalling 50 fits\n"
     ]
    },
    {
     "name": "stderr",
     "output_type": "stream",
     "text": [
      "[Parallel(n_jobs=1)]: Using backend SequentialBackend with 1 concurrent workers.\n"
     ]
    },
    {
     "name": "stdout",
     "output_type": "stream",
     "text": [
      "Best score : 0.991214\n",
      "Best parameters: \n",
      "{'n_neighbors': 2}\n",
      "RMSE_\n",
      "5.496012801697055\n"
     ]
    },
    {
     "name": "stderr",
     "output_type": "stream",
     "text": [
      "[Parallel(n_jobs=1)]: Done  50 out of  50 | elapsed:    4.9s finished\n"
     ]
    },
    {
     "data": {
      "text/html": [
       "\n",
       "        <script>\n",
       "            function code_toggle_14853175012527442427() {\n",
       "                $('div.cell.code_cell.rendered.selected').find('div.input').toggle();\n",
       "            }\n",
       "\n",
       "            \n",
       "        </script>\n",
       "\n",
       "        <a href=\"javascript:code_toggle_14853175012527442427()\">Toggle show/hide</a>\n",
       "    "
      ],
      "text/plain": [
       "<IPython.core.display.HTML object>"
      ]
     },
     "execution_count": 20,
     "metadata": {},
     "output_type": "execute_result"
    }
   ],
   "source": [
    "print(\"Building 0\")\n",
    "\n",
    "perfectWapTraining1=perfectWapTraining[perfectWapTraining.BUILDINGID==0]\n",
    "perfectWAPTest1=perfectWAPTest[perfectWAPTest.BUILDINGID==0]\n",
    "\n",
    "\n",
    "\n",
    "finalArray = perfectWapTraining1.values\n",
    "X = finalArray[:,:-9]\n",
    "y = finalArray[:,-8]\n",
    "y=y.astype('int')\n",
    "\n",
    "validationArray=perfectWAPTest1.values\n",
    "X_validation=validationArray[:,:-9]\n",
    "Y_validation=validationArray[:,-8]\n",
    "Y_validation=Y_validation.astype('int')\n",
    "\n",
    "\n",
    "k_range = [1,2,3,4,5]\n",
    "grid_params =  {\"n_neighbors\": k_range}\n",
    "gs= GridSearchCV(KNeighborsRegressor(),\n",
    "                grid_params,\n",
    "                verbose=1,\n",
    "                cv=10)\n",
    "gs_results = gs.fit(X, y)\n",
    "print(\"Best score : %f\" % gs_results.best_score_)\n",
    "print(\"Best parameters: \" )\n",
    "print(gs_results.best_params_)\n",
    "\n",
    "predictions = gs_results.predict(X_validation)\n",
    "\n",
    "\n",
    "rmse = sqrt(mean_squared_error(Y_validation, predictions))\n",
    "print(\"RMSE_\")\n",
    "print(rmse)\n",
    "\n",
    "errorTrial=[]\n",
    "errorTrial= perfectWAPTest1.copy(deep=True)\n",
    "errorTrial['prediction']=predictions\n",
    "errorTrial['error']=abs(errorTrial.prediction -errorTrial.LATITUDE)\n",
    "#errorTrial.groupby(['PHONEID'])['error'].mean().plot(kind='bar') \n",
    "#errorTrial.groupby(['PHONEID'])['error'].sum().plot(kind='bar') \n",
    "\n",
    "\n",
    "Latitude=predictions\n",
    "#errorMetrics=errorTrial.groupby('PHONEID')['error'].agg(['sum','count','mean'])\n",
    "\n",
    "hide_toggle()"
   ]
  },
  {
   "cell_type": "code",
   "execution_count": 21,
   "metadata": {},
   "outputs": [
    {
     "name": "stdout",
     "output_type": "stream",
     "text": [
      "Building 1\n",
      "Fitting 10 folds for each of 3 candidates, totalling 30 fits\n"
     ]
    },
    {
     "name": "stderr",
     "output_type": "stream",
     "text": [
      "[Parallel(n_jobs=1)]: Using backend SequentialBackend with 1 concurrent workers.\n"
     ]
    },
    {
     "name": "stdout",
     "output_type": "stream",
     "text": [
      "Best score : 0.980815\n",
      "Best parameters: \n",
      "{'n_neighbors': 3}\n",
      "RMSE:\n",
      "10.50286485227113\n"
     ]
    },
    {
     "name": "stderr",
     "output_type": "stream",
     "text": [
      "[Parallel(n_jobs=1)]: Done  30 out of  30 | elapsed:    2.7s finished\n"
     ]
    },
    {
     "data": {
      "text/html": [
       "\n",
       "        <script>\n",
       "            function code_toggle_9268842331004356222() {\n",
       "                $('div.cell.code_cell.rendered.selected').find('div.input').toggle();\n",
       "            }\n",
       "\n",
       "            \n",
       "        </script>\n",
       "\n",
       "        <a href=\"javascript:code_toggle_9268842331004356222()\">Toggle show/hide</a>\n",
       "    "
      ],
      "text/plain": [
       "<IPython.core.display.HTML object>"
      ]
     },
     "execution_count": 21,
     "metadata": {},
     "output_type": "execute_result"
    }
   ],
   "source": [
    "print(\"Building 1\")\n",
    "\n",
    "\n",
    "perfectWapTraining1=perfectWapTraining[perfectWapTraining.BUILDINGID==1]\n",
    "perfectWAPTest1=perfectWAPTest[perfectWAPTest.BUILDINGID==1]\n",
    "\n",
    "\n",
    "\n",
    "finalArray = perfectWapTraining1.values\n",
    "X = finalArray[:,:-9]\n",
    "y = finalArray[:,-8]\n",
    "y=y.astype('int')\n",
    "\n",
    "validationArray=perfectWAPTest1.values\n",
    "X_validation=validationArray[:,:-9]\n",
    "Y_validation=validationArray[:,-8]\n",
    "Y_validation=Y_validation.astype('int')\n",
    "\n",
    "\n",
    "k_range = [3,4,5]\n",
    "grid_params =  {\"n_neighbors\": k_range}\n",
    "gs= GridSearchCV(KNeighborsRegressor(),\n",
    "                grid_params,\n",
    "                verbose=1,\n",
    "                cv=10)\n",
    "gs_results = gs.fit(X, y)\n",
    "print(\"Best score : %f\" % gs_results.best_score_)\n",
    "print(\"Best parameters: \" )\n",
    "print(gs_results.best_params_)\n",
    "\n",
    "predictions = gs_results.predict(X_validation)\n",
    "\n",
    "\n",
    "rmse = sqrt(mean_squared_error(Y_validation, predictions))\n",
    "print(\"RMSE:\")\n",
    "print(rmse)\n",
    "\n",
    "predictions=pd.DataFrame(predictions)\n",
    "Latitude=pd.DataFrame(Latitude)\n",
    "Latitude00=Latitude.append(predictions)\n",
    "\n",
    "hide_toggle()"
   ]
  },
  {
   "cell_type": "code",
   "execution_count": 22,
   "metadata": {},
   "outputs": [
    {
     "name": "stderr",
     "output_type": "stream",
     "text": [
      "[Parallel(n_jobs=1)]: Using backend SequentialBackend with 1 concurrent workers.\n"
     ]
    },
    {
     "name": "stdout",
     "output_type": "stream",
     "text": [
      "Building 2\n",
      "Fitting 10 folds for each of 5 candidates, totalling 50 fits\n"
     ]
    },
    {
     "name": "stderr",
     "output_type": "stream",
     "text": [
      "[Parallel(n_jobs=1)]: Done  50 out of  50 | elapsed:   11.1s finished\n"
     ]
    },
    {
     "name": "stdout",
     "output_type": "stream",
     "text": [
      "Best score : 0.961501\n",
      "Best parameters: \n",
      "{'n_neighbors': 3}\n",
      "RMSE:\n",
      "9.854223530691343\n",
      "Total RMSE on Latitude\n",
      "8.232770046438462\n"
     ]
    },
    {
     "data": {
      "text/html": [
       "\n",
       "        <script>\n",
       "            function code_toggle_8626684759436394830() {\n",
       "                $('div.cell.code_cell.rendered.selected').find('div.input').toggle();\n",
       "            }\n",
       "\n",
       "            \n",
       "        </script>\n",
       "\n",
       "        <a href=\"javascript:code_toggle_8626684759436394830()\">Toggle show/hide</a>\n",
       "    "
      ],
      "text/plain": [
       "<IPython.core.display.HTML object>"
      ]
     },
     "execution_count": 22,
     "metadata": {},
     "output_type": "execute_result"
    }
   ],
   "source": [
    "\n",
    "# %%Longitude by building (2)\n",
    "print(\"Building 2\")\n",
    "perfectWapTraining1=perfectWapTraining[perfectWapTraining.BUILDINGID==2]\n",
    "perfectWAPTest1=perfectWAPTest[perfectWAPTest.BUILDINGID==2]\n",
    "\n",
    "\n",
    "\n",
    "finalArray = perfectWapTraining1.values\n",
    "X = finalArray[:,:-9]\n",
    "y = finalArray[:,-8]\n",
    "y=y.astype('int')\n",
    "\n",
    "validationArray=perfectWAPTest1.values\n",
    "X_validation=validationArray[:,:-9]\n",
    "Y_validation=validationArray[:,-8]\n",
    "Y_validation=Y_validation.astype('int')\n",
    "\n",
    "\n",
    "k_range = [1,2,3,4,5]\n",
    "grid_params =  {\"n_neighbors\": k_range}\n",
    "gs= GridSearchCV(KNeighborsRegressor(),\n",
    "                grid_params,\n",
    "                verbose=1,\n",
    "                cv=10)\n",
    "gs_results = gs.fit(X, y)\n",
    "print(\"Best score : %f\" % gs_results.best_score_)\n",
    "print(\"Best parameters: \" )\n",
    "print(gs_results.best_params_)\n",
    "\n",
    "predictions = gs_results.predict(X_validation)\n",
    "\n",
    "print(\"RMSE:\")\n",
    "rmse = sqrt(mean_squared_error(Y_validation, predictions))\n",
    "print(rmse)\n",
    "\n",
    "predictions=pd.DataFrame(predictions)\n",
    "\n",
    "Latitude00=Latitude00.append(predictions)\n",
    "\n",
    "totalTotal['LatitutePrediction']=Latitude00.values\n",
    "\n",
    "rmse = sqrt(mean_squared_error(totalTotal.LATITUDE, totalTotal.LatitutePrediction))\n",
    "\n",
    "print(\"Total RMSE on Latitude\")\n",
    "print(rmse)\n",
    "\n",
    "hide_toggle()\n",
    "\n"
   ]
  },
  {
   "cell_type": "markdown",
   "metadata": {},
   "source": [
    "## RESULTS"
   ]
  },
  {
   "cell_type": "markdown",
   "metadata": {},
   "source": [
    "***DISTRIBUTION OF THE ERRORS"
   ]
  },
  {
   "cell_type": "code",
   "execution_count": 38,
   "metadata": {},
   "outputs": [
    {
     "name": "stdout",
     "output_type": "stream",
     "text": [
      "total error distribution\n"
     ]
    },
    {
     "data": {
      "text/html": [
       "\n",
       "        <script>\n",
       "            function code_toggle_4374591250085550861() {\n",
       "                $('div.cell.code_cell.rendered.selected').find('div.input').toggle();\n",
       "            }\n",
       "\n",
       "            \n",
       "        </script>\n",
       "\n",
       "        <a href=\"javascript:code_toggle_4374591250085550861()\">Toggle show/hide</a>\n",
       "    "
      ],
      "text/plain": [
       "<IPython.core.display.HTML object>"
      ]
     },
     "execution_count": 38,
     "metadata": {},
     "output_type": "execute_result"
    },
    {
     "data": {
      "image/png": "[encoded data removed]",
      "text/plain": [
       "<Figure size 432x288 with 1 Axes>"
      ]
     },
     "metadata": {
      "needs_background": "light"
     },
     "output_type": "display_data"
    }
   ],
   "source": [
    "totalTotal['errorLongitude']=(totalTotal.LONGITUDE -totalTotal.predictions)\n",
    "totalTotal['errorLatitude']=(totalTotal.LATITUDE - totalTotal.LatitutePrediction)\n",
    "totalTotal['predictionFloor']=floorPredictions.values\n",
    "totalTotal['errorFloor']=abs(totalTotal.predictionFloor-totalTotal.FLOOR)\n",
    "\n",
    "print(\"total error distribution\")\n",
    "totalTotal['errorLongitude'].hist()\n",
    "\n",
    "totalTotal['errorLatitude'].hist()\n",
    "hide_toggle()\n",
    "\n",
    "\n"
   ]
  },
  {
   "cell_type": "code",
   "execution_count": 39,
   "metadata": {},
   "outputs": [
    {
     "name": "stdout",
     "output_type": "stream",
     "text": [
      "Longitude RMSE:\n",
      "8.696220598285334\n",
      "LATITUDE RMSE:\n",
      "8.232770046438462\n",
      "FLOOR Accuracy:\n",
      "0.9072907290729073\n"
     ]
    },
    {
     "data": {
      "text/html": [
       "\n",
       "        <script>\n",
       "            function code_toggle_1584021794029776459() {\n",
       "                $('div.cell.code_cell.rendered.selected').find('div.input').toggle();\n",
       "            }\n",
       "\n",
       "            \n",
       "        </script>\n",
       "\n",
       "        <a href=\"javascript:code_toggle_1584021794029776459()\">Toggle show/hide</a>\n",
       "    "
      ],
      "text/plain": [
       "<IPython.core.display.HTML object>"
      ]
     },
     "execution_count": 39,
     "metadata": {},
     "output_type": "execute_result"
    }
   ],
   "source": [
    "print(\"Longitude RMSE:\")\n",
    "rmse = sqrt(mean_squared_error(totalTotal.LONGITUDE, totalTotal.predictions))\n",
    "print(rmse)\n",
    "\n",
    "print(\"LATITUDE RMSE:\")\n",
    "rmse = sqrt(mean_squared_error(totalTotal.LATITUDE, totalTotal.LatitutePrediction))\n",
    "print(rmse)\n",
    "\n",
    "print(\"FLOOR Accuracy:\")\n",
    "print(accuracy_score(totalTotal.FLOOR, totalTotal.predictionFloor))\n",
    "hide_toggle()\n",
    "\n",
    "\n"
   ]
  },
  {
   "cell_type": "code",
   "execution_count": 40,
   "metadata": {},
   "outputs": [
    {
     "name": "stdout",
     "output_type": "stream",
     "text": [
      "Latitude Error Distribution\n"
     ]
    },
    {
     "data": {
      "text/html": [
       "\n",
       "        <script>\n",
       "            function code_toggle_11711455215805645990() {\n",
       "                $('div.cell.code_cell.rendered.selected').find('div.input').toggle();\n",
       "            }\n",
       "\n",
       "            \n",
       "        </script>\n",
       "\n",
       "        <a href=\"javascript:code_toggle_11711455215805645990()\">Toggle show/hide</a>\n",
       "    "
      ],
      "text/plain": [
       "<IPython.core.display.HTML object>"
      ]
     },
     "execution_count": 40,
     "metadata": {},
     "output_type": "execute_result"
    },
    {
     "data": {
      "image/png": "[encoded data removed]",
      "text/plain": [
       "<Figure size 432x288 with 1 Axes>"
      ]
     },
     "metadata": {
      "needs_background": "light"
     },
     "output_type": "display_data"
    }
   ],
   "source": [
    "print(\"Latitude Error Distribution\")\n",
    "plt.plot(totalTotal.LATITUDE,totalTotal.errorLatitude,'ro')\n",
    "hide_toggle()\n",
    "\n",
    "\n"
   ]
  },
  {
   "cell_type": "code",
   "execution_count": 41,
   "metadata": {},
   "outputs": [
    {
     "name": "stdout",
     "output_type": "stream",
     "text": [
      "Longitude Error Distribution\n"
     ]
    },
    {
     "data": {
      "text/html": [
       "\n",
       "        <script>\n",
       "            function code_toggle_17930772856175843620() {\n",
       "                $('div.cell.code_cell.rendered.selected').find('div.input').toggle();\n",
       "            }\n",
       "\n",
       "            \n",
       "        </script>\n",
       "\n",
       "        <a href=\"javascript:code_toggle_17930772856175843620()\">Toggle show/hide</a>\n",
       "    "
      ],
      "text/plain": [
       "<IPython.core.display.HTML object>"
      ]
     },
     "execution_count": 41,
     "metadata": {},
     "output_type": "execute_result"
    },
    {
     "data": {
      "image/png": "[encoded data removed]",
      "text/plain": [
       "<Figure size 432x288 with 1 Axes>"
      ]
     },
     "metadata": {
      "needs_background": "light"
     },
     "output_type": "display_data"
    }
   ],
   "source": [
    "print(\"Longitude Error Distribution\")\n",
    "plt.plot(totalTotal.LONGITUDE,totalTotal.errorLongitude,'ro')\n",
    "\n",
    "hide_toggle()\n",
    "\n",
    "\n"
   ]
  },
  {
   "cell_type": "code",
   "execution_count": null,
   "metadata": {},
   "outputs": [],
   "source": []
  }
 ],
 "metadata": {
  "colab": {
   "name": "Intro2PythonL.ipynb",
   "provenance": [],
   "version": "0.3.2"
  },
  "kernelspec": {
   "display_name": "Python 3",
   "language": "python",
   "name": "python3"
  },
  "language_info": {
   "codemirror_mode": {
    "name": "ipython",
    "version": 3
   },
   "file_extension": ".py",
   "mimetype": "text/x-python",
   "name": "python",
   "nbconvert_exporter": "python",
   "pygments_lexer": "ipython3",
   "version": "3.7.4"
  },
  "toc": {
   "base_numbering": 1,
   "nav_menu": {},
   "number_sections": true,
   "sideBar": true,
   "skip_h1_title": false,
   "title_cell": "Table of Contents",
   "title_sidebar": "Contents",
   "toc_cell": false,
   "toc_position": {},
   "toc_section_display": true,
   "toc_window_display": false
  },
  "varInspector": {
   "cols": {
    "lenName": 16,
    "lenType": 16,
    "lenVar": 40
   },
   "kernels_config": {
    "python": {
     "delete_cmd_postfix": "",
     "delete_cmd_prefix": "del ",
     "library": "var_list.py",
     "varRefreshCmd": "print(var_dic_list())"
    },
    "r": {
     "delete_cmd_postfix": ") ",
     "delete_cmd_prefix": "rm(",
     "library": "var_list.r",
     "varRefreshCmd": "cat(var_dic_list()) "
    }
   },
   "types_to_exclude": [
    "module",
    "function",
    "builtin_function_or_method",
    "instance",
    "_Feature"
   ],
   "window_display": false
  }
 },
 "nbformat": 4,
 "nbformat_minor": 1
}
